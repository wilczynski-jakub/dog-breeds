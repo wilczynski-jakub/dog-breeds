{
  "cells": [
    {
      "cell_type": "markdown",
      "source": [
        "# Preparation"
      ],
      "metadata": {
        "id": "W8PLl_ItwLp1"
      },
      "id": "W8PLl_ItwLp1"
    },
    {
      "cell_type": "code",
      "execution_count": null,
      "id": "8be9795c",
      "metadata": {
        "id": "8be9795c"
      },
      "outputs": [],
      "source": [
        "import csv\n",
        "import json\n",
        "import random\n",
        "import re\n",
        "import time\n",
        "\n",
        "from curl_cffi import requests\n",
        "from numpy import mean"
      ]
    },
    {
      "cell_type": "code",
      "execution_count": null,
      "id": "3ba1fc20",
      "metadata": {
        "id": "3ba1fc20"
      },
      "outputs": [],
      "source": [
        "def random_delay(min: int = 5, max: int = 10, log: bool = False, indents: int = 0) -> None:\n",
        "    delay = random.uniform(min, max)\n",
        "\n",
        "    if log == True:\n",
        "        print(indents*\"\\t\" + f\"--- (random delay: {delay:.2f} seconds) ---\", end = \"\")\n",
        "\n",
        "    time.sleep(delay)"
      ]
    },
    {
      "cell_type": "code",
      "execution_count": null,
      "id": "96ea2798",
      "metadata": {
        "id": "96ea2798"
      },
      "outputs": [],
      "source": [
        "def find_value_recursively__with_the_recursion_level(data: list|dict, sought_value, level: int) -> list:\n",
        "    if type(data) == list:\n",
        "        data = dict(enumerate(data))\n",
        "    elif type(data).__name__ != \"dict\":\n",
        "        print(\"Is not dict: \", data)\n",
        "        return []\n",
        "\n",
        "    # Check if the value is at the current level\n",
        "    for key, value in data.items():\n",
        "        if value == sought_value:\n",
        "            print(\"\\t\"*level + f\"Found value at: data[{key}]\")\n",
        "            return [key]\n",
        "\n",
        "    # Check if a further recursion is possible\n",
        "    iterable_values_exist = False\n",
        "    for key, value in data.items():\n",
        "        try:\n",
        "            iter(value)\n",
        "            if not iterable_values_exist:\n",
        "                iterable_values_exist = True\n",
        "        except TypeError:\n",
        "            pass\n",
        "    if not iterable_values_exist:\n",
        "        print(\"\\t\"*level + f\"No iterable values in {data}\")\n",
        "        return []\n",
        "\n",
        "    # Do the recursion to find the value at a deeper level\n",
        "    for key, value in data.items():\n",
        "        keys_path = [key]\n",
        "        print(\"\\t\"*level + f\"Searching values at: data[{key}]\")\n",
        "        keys_recursively = find_value_recursively__with_the_recursion_level(data[key], sought_value, level + 1)\n",
        "        if keys_recursively:\n",
        "            res = keys_path + keys_recursively\n",
        "            print(\"\\t\"*level + f\"Returning the current key path: {res}\")\n",
        "            return res\n",
        "\n",
        "    print(\"\\t\"*level + \"Didn't find the value\")\n",
        "    return []\n",
        "\n",
        "def find_value_recursively(data: dict, sought_value) -> list:\n",
        "    return find_value_recursively__with_the_recursion_level(data, sought_value, 0)"
      ]
    },
    {
      "cell_type": "markdown",
      "source": [
        "# Scraping the data"
      ],
      "metadata": {
        "id": "5v7xhYafwTqk"
      },
      "id": "5v7xhYafwTqk"
    },
    {
      "cell_type": "code",
      "execution_count": null,
      "id": "42d01287",
      "metadata": {
        "id": "42d01287"
      },
      "outputs": [],
      "source": [
        "def get_all_breeds(breeds_url: str = \"https://www.akc.org/dog-breeds/\") -> dict:\n",
        "    with requests.Session(impersonate=\"chrome110\") as session:\n",
        "        response = session.get(breeds_url)\n",
        "        response.raise_for_status()\n",
        "\n",
        "    for line in response.text.splitlines():\n",
        "        if re.search(\"&quot;menu_panels\", line):\n",
        "            result_data = re.search('([^{]+)(.*)(\"></div>)', line).groups()[1].replace('&quot;', '\"').replace('\\\\', '')\n",
        "            break\n",
        "\n",
        "    dogs_data_unformatted = json.loads(result_data)\n",
        "    dogs_data = dogs_data_unformatted['menu_panels'][0]['columns'][1]['nav_tab_section'][0]['0'][1]['breed_explorer']['breed_select']['options']\n",
        "\n",
        "    return dogs_data"
      ]
    },
    {
      "cell_type": "code",
      "execution_count": null,
      "id": "5f9ad74c",
      "metadata": {
        "id": "5f9ad74c"
      },
      "outputs": [],
      "source": [
        "def get_breed_data(breed_url: str = \"https://www.akc.org/dog-breeds/affenpinscher\") -> dict:\n",
        "    with requests.Session(impersonate=\"chrome110\") as session:\n",
        "        response_breed = session.get(breed_url)\n",
        "        response_breed.raise_for_status()\n",
        "\n",
        "    for line in response_breed.text.splitlines():\n",
        "        if re.search(\"&quot;traits&quot;\", line):\n",
        "            line_formatted = line.replace('&quot;', '\"').replace(r'\\/', '/')\n",
        "            result_breed_data = re.search('(\"breed_data\":)(.*)(,\"wp_breed_api_url\")', line_formatted).groups()[1]\n",
        "            break\n",
        "\n",
        "    return json.loads(result_breed_data)"
      ]
    },
    {
      "cell_type": "code",
      "execution_count": null,
      "id": "9a858ad6",
      "metadata": {
        "id": "9a858ad6"
      },
      "outputs": [],
      "source": [
        "ALL_BREEDS = get_all_breeds()\n",
        "BREEDS_DICT = {}\n",
        "\n",
        "for breed in ALL_BREEDS:\n",
        "    breed_name = breed['text']\n",
        "    breed_url = breed['value']\n",
        "    print(f\"{breed_name}... \", end = \"\")\n",
        "\n",
        "    if BREEDS_DICT:\n",
        "        random_delay(log = True)\n",
        "\n",
        "    exceptions_count = 0\n",
        "    while True:\n",
        "        try:\n",
        "            breed_data = get_breed_data(breed_url)\n",
        "        except requests.RequestsError as e:\n",
        "            print(\"\\n\", e, end = \"\")\n",
        "            exceptions_count += 1\n",
        "            time.sleep(5)\n",
        "            continue\n",
        "        break\n",
        "\n",
        "    breed_size = list(breed_data['standards'].items())[0][1].get('size')\n",
        "    BREEDS_DICT[breed_name] = {'size': breed_size}\n",
        "\n",
        "    breed_traits = list(breed_data['traits'].items())[0][1].get('traits')\n",
        "    if breed_traits:\n",
        "        BREEDS_DICT[breed_name].update(breed_traits)\n",
        "\n",
        "    if exceptions_count:\n",
        "        print()\n",
        "    print(\" success!\")\n",
        "\n",
        "# save all the data collected\n",
        "filename = \"breeds-raw-data.json\"\n",
        "json.dump(BREEDS_DICT, open(filename, \"w\"), indent = 4)\n",
        "print(f\"\\nRaw data for {len(BREEDS_DICT)} breeds saved successfully into the file:\", filename)"
      ]
    },
    {
      "cell_type": "markdown",
      "source": [
        "# Formatting the data"
      ],
      "metadata": {
        "id": "9fAWWDSkwZ3Z"
      },
      "id": "9fAWWDSkwZ3Z"
    },
    {
      "cell_type": "code",
      "execution_count": 71,
      "id": "7dd7e5ac",
      "metadata": {
        "id": "7dd7e5ac",
        "colab": {
          "base_uri": "https://localhost:8080/"
        },
        "outputId": "546c184f-9a22-4411-833e-64bbf37af5f1"
      },
      "outputs": [
        {
          "output_type": "stream",
          "name": "stdout",
          "text": [
            "Formatted data for 292 breeds.\n"
          ]
        }
      ],
      "source": [
        "BREED_TRAITS_SCORES_DICTS = []\n",
        "TRAIT_NAMES = set()\n",
        "\n",
        "for breed in get_all_breeds():\n",
        "    breed_name = breed['text']\n",
        "    breed_url = breed['value']\n",
        "    # print(f\"{breed_name}\")\n",
        "\n",
        "    traits_dict = BREEDS_DICT[breed_name]\n",
        "    breed_traits_scores_dict = {'breed_name': breed_name,\n",
        "                                'breed_url': breed_url}\n",
        "\n",
        "    for trait_name, trait_values in traits_dict.items():\n",
        "        trait_final_value = 'Unspecified'\n",
        "\n",
        "        if trait_name == 'size':\n",
        "            # print(\"\\ttrait_name is size\")\n",
        "\n",
        "            if trait_values:\n",
        "                trait_final_value = trait_values\n",
        "\n",
        "                regex = re.fullmatch(r\"&lt;p&gt;([A-Za-z]+)&lt;\\/p&gt;\", trait_final_value)\n",
        "                if regex:\n",
        "                    trait_final_value = regex.groups()[0]\n",
        "\n",
        "            # else:\n",
        "                # print(\"\\tbut no trait_values\")\n",
        "\n",
        "        elif trait_name == 'coat_type' or trait_name == 'coat_length':\n",
        "            # print(\"\\ttrait_name is coat_type or coat_length\")\n",
        "\n",
        "            if trait_values['selected']:\n",
        "                if trait_values['selected'][0] != \"0\":\n",
        "                    trait_final_value = trait_values['selected'][0]\n",
        "            # else:\n",
        "                # print(\"\\tbut no trait_values['selected']\")\n",
        "\n",
        "        elif 'score' in trait_values:\n",
        "            # print(\"\\tscore is in trait_values\")\n",
        "            trait_final_value = trait_values['score']\n",
        "\n",
        "        else:\n",
        "            continue\n",
        "\n",
        "        # print(f\"\\t{trait_name} = {trait_final_value}\\n\")\n",
        "        breed_traits_scores_dict[trait_name] = trait_final_value\n",
        "        TRAIT_NAMES.add(trait_name)\n",
        "\n",
        "\n",
        "    BREED_TRAITS_SCORES_DICTS += [breed_traits_scores_dict]\n",
        "    # print()\n",
        "\n",
        "print(f\"Formatted data for {len(BREED_TRAITS_SCORES_DICTS)} breeds.\")"
      ]
    },
    {
      "cell_type": "code",
      "execution_count": 67,
      "id": "111ca450",
      "metadata": {
        "id": "111ca450",
        "colab": {
          "base_uri": "https://localhost:8080/"
        },
        "outputId": "72adf172-60fb-441f-cf9a-579f8cca644d"
      },
      "outputs": [
        {
          "output_type": "stream",
          "name": "stdout",
          "text": [
            "breeds-formatted.xlsx - saved successfully!\n"
          ]
        }
      ],
      "source": [
        "import openpyxl\n",
        "from openpyxl.styles import Font\n",
        "\n",
        "workbook = openpyxl.Workbook()\n",
        "sheet = workbook.active\n",
        "sheet.title = \"Breeds\"\n",
        "\n",
        "headers = ['name'] + [column for column in TRAIT_NAMES if column != 'breed_url']\n",
        "sheet.append(headers)\n",
        "\n",
        "for breed_dict in BREED_TRAITS_SCORES_DICTS:\n",
        "    row = []\n",
        "    row.append(f'=HYPERLINK(\"{breed_dict[\"breed_url\"]}\", \"{breed_dict[\"breed_name\"]}\")')\n",
        "    for col in headers[1:]:\n",
        "        row.append(breed_dict.get(col))\n",
        "    sheet.append(row)\n",
        "\n",
        "bold_font = Font(bold=True)\n",
        "for cell in sheet[1]:\n",
        "    cell.font = bold_font\n",
        "for row in sheet.iter_rows(min_row=1, max_row=sheet.max_row, min_col=1, max_col=1):\n",
        "    for cell in row:\n",
        "        cell.font = bold_font\n",
        "\n",
        "sheet.freeze_panes = \"B2\"\n",
        "\n",
        "filename = \"breeds-formatted.xlsx\"\n",
        "workbook.save(filename)\n",
        "print(filename, \"- saved successfully!\")"
      ]
    }
  ],
  "metadata": {
    "kernelspec": {
      "display_name": "Python 3",
      "language": "python",
      "name": "python3"
    },
    "language_info": {
      "codemirror_mode": {
        "name": "ipython",
        "version": 3
      },
      "file_extension": ".py",
      "mimetype": "text/x-python",
      "name": "python",
      "nbconvert_exporter": "python",
      "pygments_lexer": "ipython3",
      "version": "3.10.5"
    },
    "colab": {
      "provenance": []
    }
  },
  "nbformat": 4,
  "nbformat_minor": 5
}